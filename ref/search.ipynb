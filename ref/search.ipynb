{
 "cells": [
  {
   "cell_type": "code",
   "execution_count": 18,
   "metadata": {},
   "outputs": [],
   "source": [
    "# load books csv data file \n",
    "\n",
    "import gzip \n",
    "\n",
    "with gzip.open(\"goodreads_books.json.gz\", \"r\") as f:\n",
    "  line = f.readline()"
   ]
  },
  {
   "cell_type": "code",
   "execution_count": 19,
   "metadata": {},
   "outputs": [
    {
     "data": {
      "text/plain": [
       "b'{\"isbn\": \"0312853122\", \"text_reviews_count\": \"1\", \"series\": [], \"country_code\": \"US\", \"language_code\": \"\", \"popular_shelves\": [{\"count\": \"3\", \"name\": \"to-read\"}, {\"count\": \"1\", \"name\": \"p\"}, {\"count\": \"1\", \"name\": \"collection\"}, {\"count\": \"1\", \"name\": \"w-c-fields\"}, {\"count\": \"1\", \"name\": \"biography\"}], \"asin\": \"\", \"is_ebook\": \"false\", \"average_rating\": \"4.00\", \"kindle_asin\": \"\", \"similar_books\": [], \"description\": \"\", \"format\": \"Paperback\", \"link\": \"https://www.goodreads.com/book/show/5333265-w-c-fields\", \"authors\": [{\"author_id\": \"604031\", \"role\": \"\"}], \"publisher\": \"St. Martin\\'s Press\", \"num_pages\": \"256\", \"publication_day\": \"1\", \"isbn13\": \"9780312853129\", \"publication_month\": \"9\", \"edition_information\": \"\", \"publication_year\": \"1984\", \"url\": \"https://www.goodreads.com/book/show/5333265-w-c-fields\", \"image_url\": \"https://images.gr-assets.com/books/1310220028m/5333265.jpg\", \"book_id\": \"5333265\", \"ratings_count\": \"3\", \"work_id\": \"5400751\", \"title\": \"W.C. Fields: A Life on Film\", \"title_without_series\": \"W.C. Fields: A Life on Film\"}\\n'"
      ]
     },
     "execution_count": 19,
     "metadata": {},
     "output_type": "execute_result"
    }
   ],
   "source": [
    "line"
   ]
  },
  {
   "cell_type": "code",
   "execution_count": 20,
   "metadata": {},
   "outputs": [
    {
     "data": {
      "text/plain": [
       "{'isbn': '0312853122',\n",
       " 'text_reviews_count': '1',\n",
       " 'series': [],\n",
       " 'country_code': 'US',\n",
       " 'language_code': '',\n",
       " 'popular_shelves': [{'count': '3', 'name': 'to-read'},\n",
       "  {'count': '1', 'name': 'p'},\n",
       "  {'count': '1', 'name': 'collection'},\n",
       "  {'count': '1', 'name': 'w-c-fields'},\n",
       "  {'count': '1', 'name': 'biography'}],\n",
       " 'asin': '',\n",
       " 'is_ebook': 'false',\n",
       " 'average_rating': '4.00',\n",
       " 'kindle_asin': '',\n",
       " 'similar_books': [],\n",
       " 'description': '',\n",
       " 'format': 'Paperback',\n",
       " 'link': 'https://www.goodreads.com/book/show/5333265-w-c-fields',\n",
       " 'authors': [{'author_id': '604031', 'role': ''}],\n",
       " 'publisher': \"St. Martin's Press\",\n",
       " 'num_pages': '256',\n",
       " 'publication_day': '1',\n",
       " 'isbn13': '9780312853129',\n",
       " 'publication_month': '9',\n",
       " 'edition_information': '',\n",
       " 'publication_year': '1984',\n",
       " 'url': 'https://www.goodreads.com/book/show/5333265-w-c-fields',\n",
       " 'image_url': 'https://images.gr-assets.com/books/1310220028m/5333265.jpg',\n",
       " 'book_id': '5333265',\n",
       " 'ratings_count': '3',\n",
       " 'work_id': '5400751',\n",
       " 'title': 'W.C. Fields: A Life on Film',\n",
       " 'title_without_series': 'W.C. Fields: A Life on Film'}"
      ]
     },
     "execution_count": 20,
     "metadata": {},
     "output_type": "execute_result"
    }
   ],
   "source": [
    "import json\n",
    "\n",
    "json.loads(line)"
   ]
  },
  {
   "cell_type": "code",
   "execution_count": 21,
   "metadata": {},
   "outputs": [],
   "source": [
    "# function that returns a dictionary from json data\n",
    "def parse_fields(line):\n",
    "  data = json.loads(line)\n",
    "  return {\n",
    "      \"book_id\": data[\"book_id\"],\n",
    "      \"title\": data[\"title_without_series\"],\n",
    "      \"ratings\": data[\"ratings_count\"],\n",
    "      \"url\": data[\"url\"],\n",
    "      \"cover_image\": data[\"image_url\"]\n",
    "  }"
   ]
  },
  {
   "cell_type": "code",
   "execution_count": 22,
   "metadata": {},
   "outputs": [],
   "source": [
    "# opens books csv and stores book titles into an array \n",
    "\n",
    "books_titles = []\n",
    "\n",
    "with gzip.open(\"goodreads_books.json.gz\", 'r') as f:\n",
    "  while True:\n",
    "    line = f.readline()\n",
    "    if not line:\n",
    "      break\n",
    "    fields = parse_fields(line)\n",
    "\n",
    "    try:\n",
    "        ratings = int(fields[\"ratings\"])\n",
    "    except ValueError:\n",
    "        continue\n",
    "    if ratings > 15:\n",
    "      books_titles.append(fields)\n",
    "    "
   ]
  },
  {
   "cell_type": "code",
   "execution_count": 23,
   "metadata": {},
   "outputs": [],
   "source": [
    "# convert book titles into a dataframe\n",
    "\n",
    "import pandas as pd\n",
    "\n",
    "titles = pd.DataFrame.from_dict(books_titles)"
   ]
  },
  {
   "cell_type": "code",
   "execution_count": 24,
   "metadata": {},
   "outputs": [],
   "source": [
    "# turns title ratings into its own numerical column\n",
    "\n",
    "titles[\"ratings\"] = pd.to_numeric(titles[\"ratings\"])"
   ]
  },
  {
   "cell_type": "code",
   "execution_count": 25,
   "metadata": {},
   "outputs": [],
   "source": [
    "# modifies titles to minimize search space (removes special characters)\n",
    "# mod_title values will be used for retrieving values within the search engine\n",
    "\n",
    "titles[\"mod_title\"] = titles[\"title\"].str.replace(\"^a-zA-Z0-9 ]\", \"\", regex=True)"
   ]
  },
  {
   "cell_type": "code",
   "execution_count": 26,
   "metadata": {},
   "outputs": [],
   "source": [
    "# makes the modified titles all lower case\n",
    "\n",
    "titles[\"mod_title\"] = titles[\"mod_title\"].str.lower()"
   ]
  },
  {
   "cell_type": "code",
   "execution_count": 27,
   "metadata": {},
   "outputs": [],
   "source": [
    "# formats spaces\n",
    "\n",
    "titles[\"mod_title\"] = titles[\"mod_title\"].str.replace(\"\\s+\", \" \", regex=True)"
   ]
  },
  {
   "cell_type": "code",
   "execution_count": 28,
   "metadata": {},
   "outputs": [],
   "source": [
    "# remove titles that have nothing\n",
    "\n",
    "titles = titles[titles[\"mod_title\"].str.len() > 0]"
   ]
  },
  {
   "cell_type": "code",
   "execution_count": 36,
   "metadata": {},
   "outputs": [],
   "source": [
    "import pickle\n",
    "import pickletools\n",
    "import gzip \n",
    "\n",
    "with gzip.open(\"ml/titles.pkl\", \"wb\") as f:\n",
    "    pickled = pickle.dumps(titles)\n",
    "    optimized_pickle = pickletools.optimize(pickled)\n",
    "    f.write(optimized_pickle)"
   ]
  },
  {
   "cell_type": "code",
   "execution_count": 30,
   "metadata": {},
   "outputs": [],
   "source": [
    "# Vectorizor creates a Term Frequency Inverse Document Freq. Matrix\n",
    "# Fits to titles dataframe\n",
    "\n",
    "from sklearn.feature_extraction.text import TfidfVectorizer\n",
    "vectorizer = TfidfVectorizer()\n",
    "\n",
    "tfidf = vectorizer.fit_transform(titles[\"mod_title\"])\n"
   ]
  },
  {
   "cell_type": "code",
   "execution_count": 37,
   "metadata": {},
   "outputs": [],
   "source": [
    "import pickle\n",
    "import pickletools\n",
    "import gzip \n",
    "\n",
    "with gzip.open(\"ml/vectorizer.pkl\", \"wb\") as f:\n",
    "    pickled = pickle.dumps(vectorizer)\n",
    "    optimized_pickle = pickletools.optimize(pickled)\n",
    "    f.write(optimized_pickle)\n",
    "\n",
    "with gzip.open(\"ml/tfidf.pkl\", \"wb\") as f:\n",
    "    pickled = pickle.dumps(tfidf)\n",
    "    optimized_pickle = pickletools.optimize(pickled)\n",
    "    f.write(optimized_pickle)"
   ]
  },
  {
   "cell_type": "code",
   "execution_count": 32,
   "metadata": {},
   "outputs": [],
   "source": [
    "from sklearn.metrics.pairwise import cosine_similarity\n",
    "import numpy as np\n",
    "import re\n",
    "\n",
    "def make_clickable(val):\n",
    "    return '<a target=\"_blank\" href=\"{}\">Goodreads</a>'.format(val)\n",
    "\n",
    "def show_image(val):\n",
    "    return '<img src=\"{}\" width=50></img>'.format(val)\n",
    "def search(query):\n",
    "    # processes the input similarily to the dataset\n",
    "    processed = re.sub(\"a-zA-Z0-9 ]\", \"\", query.lower())\n",
    "\n",
    "    # transforms it into a vectorizer\n",
    "    query_vec = vectorizer.transform([processed])\n",
    "\n",
    "    # determine similarity of the two vectors\n",
    "    similarity = cosine_similarity(query_vec, tfidf).flatten()\n",
    "\n",
    "    # finds 10 largest similarity values\n",
    "    indicies = np.argpartition(similarity, -10)[-10:]\n",
    "    results = titles.iloc[indicies]\n",
    "\n",
    "    # sorts values in descending order\n",
    "    results = results.sort_values(\"ratings\", ascending=False)\n",
    "    \n",
    "    return results.head(5)"
   ]
  },
  {
   "cell_type": "code",
   "execution_count": 33,
   "metadata": {},
   "outputs": [
    {
     "data": {
      "text/html": [
       "<div>\n",
       "<style scoped>\n",
       "    .dataframe tbody tr th:only-of-type {\n",
       "        vertical-align: middle;\n",
       "    }\n",
       "\n",
       "    .dataframe tbody tr th {\n",
       "        vertical-align: top;\n",
       "    }\n",
       "\n",
       "    .dataframe thead th {\n",
       "        text-align: right;\n",
       "    }\n",
       "</style>\n",
       "<table border=\"1\" class=\"dataframe\">\n",
       "  <thead>\n",
       "    <tr style=\"text-align: right;\">\n",
       "      <th></th>\n",
       "      <th>book_id</th>\n",
       "      <th>title</th>\n",
       "      <th>ratings</th>\n",
       "      <th>url</th>\n",
       "      <th>cover_image</th>\n",
       "      <th>mod_title</th>\n",
       "    </tr>\n",
       "  </thead>\n",
       "  <tbody>\n",
       "    <tr>\n",
       "      <th>296281</th>\n",
       "      <td>11052224</td>\n",
       "      <td>The Lost World</td>\n",
       "      <td>2199</td>\n",
       "      <td>https://www.goodreads.com/book/show/11052224-t...</td>\n",
       "      <td>https://images.gr-assets.com/books/1327872290m...</td>\n",
       "      <td>the lost world</td>\n",
       "    </tr>\n",
       "    <tr>\n",
       "      <th>65052</th>\n",
       "      <td>227286</td>\n",
       "      <td>A World Lost</td>\n",
       "      <td>620</td>\n",
       "      <td>https://www.goodreads.com/book/show/227286.A_W...</td>\n",
       "      <td>https://s.gr-assets.com/assets/nophoto/book/11...</td>\n",
       "      <td>a world lost</td>\n",
       "    </tr>\n",
       "    <tr>\n",
       "      <th>38643</th>\n",
       "      <td>6506153</td>\n",
       "      <td>The Lost World</td>\n",
       "      <td>140</td>\n",
       "      <td>https://www.goodreads.com/book/show/6506153-th...</td>\n",
       "      <td>https://s.gr-assets.com/assets/nophoto/book/11...</td>\n",
       "      <td>the lost world</td>\n",
       "    </tr>\n",
       "    <tr>\n",
       "      <th>952478</th>\n",
       "      <td>1191487</td>\n",
       "      <td>Lost World</td>\n",
       "      <td>96</td>\n",
       "      <td>https://www.goodreads.com/book/show/1191487.Lo...</td>\n",
       "      <td>https://s.gr-assets.com/assets/nophoto/book/11...</td>\n",
       "      <td>lost world</td>\n",
       "    </tr>\n",
       "    <tr>\n",
       "      <th>1117526</th>\n",
       "      <td>367293</td>\n",
       "      <td>Lost World</td>\n",
       "      <td>93</td>\n",
       "      <td>https://www.goodreads.com/book/show/367293.Los...</td>\n",
       "      <td>https://s.gr-assets.com/assets/nophoto/book/11...</td>\n",
       "      <td>lost world</td>\n",
       "    </tr>\n",
       "  </tbody>\n",
       "</table>\n",
       "</div>"
      ],
      "text/plain": [
       "          book_id           title  ratings  \\\n",
       "296281   11052224  The Lost World     2199   \n",
       "65052      227286    A World Lost      620   \n",
       "38643     6506153  The Lost World      140   \n",
       "952478    1191487      Lost World       96   \n",
       "1117526    367293      Lost World       93   \n",
       "\n",
       "                                                       url  \\\n",
       "296281   https://www.goodreads.com/book/show/11052224-t...   \n",
       "65052    https://www.goodreads.com/book/show/227286.A_W...   \n",
       "38643    https://www.goodreads.com/book/show/6506153-th...   \n",
       "952478   https://www.goodreads.com/book/show/1191487.Lo...   \n",
       "1117526  https://www.goodreads.com/book/show/367293.Los...   \n",
       "\n",
       "                                               cover_image       mod_title  \n",
       "296281   https://images.gr-assets.com/books/1327872290m...  the lost world  \n",
       "65052    https://s.gr-assets.com/assets/nophoto/book/11...    a world lost  \n",
       "38643    https://s.gr-assets.com/assets/nophoto/book/11...  the lost world  \n",
       "952478   https://s.gr-assets.com/assets/nophoto/book/11...      lost world  \n",
       "1117526  https://s.gr-assets.com/assets/nophoto/book/11...      lost world  "
      ]
     },
     "execution_count": 33,
     "metadata": {},
     "output_type": "execute_result"
    }
   ],
   "source": [
    "search(\"Lost World\")"
   ]
  },
  {
   "cell_type": "code",
   "execution_count": null,
   "metadata": {},
   "outputs": [],
   "source": []
  },
  {
   "cell_type": "code",
   "execution_count": null,
   "metadata": {},
   "outputs": [],
   "source": []
  }
 ],
 "metadata": {
  "kernelspec": {
   "display_name": "Python 3",
   "language": "python",
   "name": "python3"
  },
  "language_info": {
   "codemirror_mode": {
    "name": "ipython",
    "version": 3
   },
   "file_extension": ".py",
   "mimetype": "text/x-python",
   "name": "python",
   "nbconvert_exporter": "python",
   "pygments_lexer": "ipython3",
   "version": "3.10.4"
  },
  "orig_nbformat": 4
 },
 "nbformat": 4,
 "nbformat_minor": 2
}
